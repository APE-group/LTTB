{
 "cells": [
  {
   "cell_type": "code",
   "execution_count": 1,
   "id": "surface-stadium",
   "metadata": {},
   "outputs": [],
   "source": [
    "import gym\n",
    "import numpy as np\n",
    "\n",
    "from lttb import LTTB\n",
    "\n",
    "from tqdm import trange\n",
    "\n",
    "N, I, O, T = 100, 4, 2, 100\n",
    "shape = (N, I, O, T)\n",
    "\n",
    "dt = .001\n",
    "tau_m = 6. * dt\n",
    "tau_s = 5. * dt\n",
    "tau_ro = 8. * dt\n",
    "tau_star = 2 * dt\n",
    "\n",
    "sigma_teach = 2.0\n",
    "sigma_input = 15.0\n",
    "dv = 1 / 500.\n",
    "alpha = .005\n",
    "alpha_rout = .01\n",
    "Vo = -4\n",
    "h = -4\n",
    "s_inh = 20\n",
    "\n",
    "sigma_Jrec = 2.\n",
    "sigma_Jout = 0.1\n",
    "\n",
    "# Here we build the dictionary of the simulation parameters\n",
    "par = {'dt' : dt, 'tau_m' : tau_m, 'tau_s' : tau_s, 'tau_ro' : tau_ro, 'tau_star' : tau_star,\n",
    "\t   'dv' : dv, 'Vo' : Vo, 'h' : h, 's_inh' : s_inh,\n",
    "\t   'N' : N, 'T' : T, 'I' : I, 'O' : O, 'shape' : shape, \n",
    "       'sigma_Jrec' : sigma_Jrec, 'sigma_Jout' : sigma_Jout,\n",
    "       'alpha' : alpha, 'alpha_rout' : alpha_rout,\n",
    "\t   'sigma_input' : sigma_input, 'sigma_teach' : sigma_teach}\n",
    "\n",
    "# Here we init our (recurrent) agent\n",
    "lttb = LTTB (par)\n",
    "\n"
   ]
  },
  {
   "cell_type": "code",
   "execution_count": 2,
   "id": "spare-loading",
   "metadata": {},
   "outputs": [],
   "source": [
    "# one time step of the dynamics... to be developed\n",
    "\n",
    "lttb.step()"
   ]
  },
  {
   "cell_type": "markdown",
   "id": "dietary-modeling",
   "metadata": {},
   "source": [
    "MATLAB code to be converted below"
   ]
  },
  {
   "cell_type": "code",
   "execution_count": null,
   "id": "rolled-cleveland",
   "metadata": {},
   "outputs": [],
   "source": []
  },
  {
   "cell_type": "code",
   "execution_count": null,
   "id": "violent-parameter",
   "metadata": {},
   "outputs": [],
   "source": []
  }
 ],
 "metadata": {
  "kernelspec": {
   "display_name": "Python 3",
   "language": "python",
   "name": "python3"
  },
  "language_info": {
   "codemirror_mode": {
    "name": "ipython",
    "version": 3
   },
   "file_extension": ".py",
   "mimetype": "text/x-python",
   "name": "python",
   "nbconvert_exporter": "python",
   "pygments_lexer": "ipython3",
   "version": "3.8.5"
  }
 },
 "nbformat": 4,
 "nbformat_minor": 5
}
