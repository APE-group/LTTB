{
 "cells": [
  {
   "cell_type": "code",
   "execution_count": 1,
   "id": "future-knitting",
   "metadata": {},
   "outputs": [],
   "source": [
    "import json\n",
    "import numpy as np\n",
    "import random\n",
    "\n",
    "from lttb import LTTB\n",
    "\n",
    "from env import Unlock\n",
    "\n",
    "from tqdm import tqdm, trange\n",
    "from itertools import product as Prod\n",
    "\n",
    "# ============= TEST FUNCTION =================\n",
    "def test (lttb, env, testset, par):\n",
    "    rt, rb = r = (par['rt'], par['rb'])\n",
    "    size = np.shape(testset)[-1]\n",
    "\n",
    "    hist = {'agent'  : np.zeros ((size, par['T'], 2)),\n",
    "            'action' : np.zeros ((size, par['T'], par['O'])),\n",
    "            'theta'  : np.zeros (size),\n",
    "            'R'      : np.zeros (size)}\n",
    "\n",
    "    tars = np.array ([(rt * np.cos (t), rt * np.sin (t)) for t in testset])\n",
    "    btns =  [(0., rb)] * len (testset)\n",
    "\n",
    "    for i, (targ, btn) in enumerate (zip (tars, btns)):\n",
    "        env.reset (init = init, targ = targ, btn = btn)\n",
    "        lttb.initialize(par)\n",
    "        R = 0\n",
    "\n",
    "        state = np.hstack ((env.encode (targ - init), env.encode (btn - init)))\n",
    "\n",
    "        for t in range (par['T']):\n",
    "            action, _ = lttb.step (apicalFactor =0)\n",
    "            state, r, done, agen = env.step (action)\n",
    "\n",
    "            R = max (R, r)\n",
    "\n",
    "            hist['action'][i, t] = action\n",
    "            hist['agent'][i, t]  = agen\n",
    "\n",
    "            if done: break\n",
    "\n",
    "        hist['action'][i, t:] = np.nan\n",
    "        hist['agent'][i, t:]  = agen\n",
    "        hist['theta'][i]      = testset[i]\n",
    "        hist['R'][i]          = R\n",
    "\n",
    "    return hist"
   ]
  },
  {
   "cell_type": "code",
   "execution_count": 2,
   "id": "harmful-globe",
   "metadata": {},
   "outputs": [
    {
     "data": {
      "text/plain": [
       "\"\\nsigma_in = 5\\n!!! -> fare test su tutti angoli 0-360, calcolare R come distanza minima tra bottone e array posizioni, poi fare plot e\\n   sovrapporre angoli di training\\n-> sparsificare l'input e/o il contesto\\n-> provare reaching studiando di piu' o diminuendo il numero di esempi (n_context=20 usato in due punti diversi del codice)\\n-> l'esperto raggiunge il bottone sempre a t=60, ovunque il bottone sia; questo implica velocita' diverse;\\n   possiamo o settare la velocita' ad una costante, quindi cambiando il tempo di reach del bottone, o semplicemente estrarre\\n   i bottoni su una circonferenza di raggio fissato\\n\""
      ]
     },
     "execution_count": 2,
     "metadata": {},
     "output_type": "execute_result"
    }
   ],
   "source": [
    "\"\"\"\n",
    "sigma_in = 5\n",
    "!!! -> fare test su tutti angoli 0-360, calcolare R come distanza minima tra bottone e array posizioni, poi fare plot e\n",
    "   sovrapporre angoli di training\n",
    "-> sparsificare l'input e/o il contesto\n",
    "-> provare reaching studiando di piu' o diminuendo il numero di esempi (n_context=20 usato in due punti diversi del codice)\n",
    "-> l'esperto raggiunge il bottone sempre a t=60, ovunque il bottone sia; questo implica velocita' diverse;\n",
    "   possiamo o settare la velocita' ad una costante, quindi cambiando il tempo di reach del bottone, o semplicemente estrarre\n",
    "   i bottoni su una circonferenza di raggio fissato\n",
    "\"\"\""
   ]
  },
  {
   "cell_type": "code",
   "execution_count": 3,
   "id": "familiar-hindu",
   "metadata": {},
   "outputs": [],
   "source": [
    "# Loading configuration file\n",
    "path = 'config.json'\n",
    "config = 'BUTTON_FOOD'\n",
    "\n",
    "n_examples = 10\n",
    "\n",
    "with open (path, 'r') as f:\n",
    "    par = json.load (f)[config]\n",
    "\n",
    "par['hint'] = par['hint'] == 'True'\n",
    "par['clump'] = par['clump'] == 'True'\n",
    "par['validate'] = par['validate'] == 'True'\n",
    "par['verbose'] = par['verbose'] == 'True'\n",
    "\n",
    "# ==== Environment Initialization ======\n",
    "init = np.array ((0., 0.))\n",
    "targ = np.array ((0., 1.))\n",
    "btn = np.array ((0., 0.))\n",
    "\n",
    "env = Unlock (init = init, targ = targ, btn = btn, unit = (par['dt'], par['dx']), res = 20)\n",
    "\n",
    "rt, rb = par['rt'], par['rb']\n",
    "\n",
    "trainset = np.array (par['trainset'])\n",
    "validset = np.array (par['validset'])\n",
    "testset  = np.linspace (*par['testset'])\n",
    "\n",
    "train_theta = trainset * np.pi / 180.\n",
    "valid_theta = validset * np.pi / 180.\n",
    "test_theta  = testset * np.pi / 180.\n",
    "\n",
    "#train_targs = np.array ([(rt * np.cos (t), rt * np.sin (t)) for t in train_theta])\n",
    "\n",
    "train_targs = (np.random.rand(n_examples,2)-.5)*2#np.array ([( np.random.rand(1) , np.random.rand(1) ) for t in train_theta])\n",
    "train_thetas = [random.random()*2*np.pi for i in range(n_examples)]\n",
    "train_bttns = np.array ([(1 * np.cos (t), 1 * np.sin (t)) for t in train_thetas])\n",
    "#train_bttns = (np.random.rand(20,2)-.5)*2#np.array ([(0, rb) for t in train_theta])\n",
    "\n",
    "#valid_targs = np.array ([(rt * np.cos (t), rt * np.sin (t)) for t in valid_theta])\n"
   ]
  },
  {
   "cell_type": "code",
   "execution_count": 4,
   "id": "ideal-cargo",
   "metadata": {},
   "outputs": [
    {
     "data": {
      "text/plain": [
       "(10, 2)"
      ]
     },
     "execution_count": 4,
     "metadata": {},
     "output_type": "execute_result"
    }
   ],
   "source": [
    "np.shape(train_targs)"
   ]
  },
  {
   "cell_type": "code",
   "execution_count": 5,
   "id": "utility-biography",
   "metadata": {},
   "outputs": [],
   "source": [
    "\n",
    "#valid_bttns = np.array ([(rb * np.cos (t), rb * np.sin (t)) for t in valid_theta])\n",
    "\n",
    "tb = 60\n",
    "tf = 60\n",
    "\n",
    "# Here we ask the env for the expert behaviour\n",
    "epar = {'offT' : (1, 1), 'steps' : (tb-1, tf-1), 'T' : (tb, tf)}\n",
    "train_exp = [env.build_expert (targ, init, btn, **epar) for targ, btn in zip (train_targs, train_bttns)]\n",
    "#valid_exp = [env.build_expert (targ, init, btn, **epar) for targ, btn in zip (valid_targs, valid_bttns)]\n",
    "\n"
   ]
  },
  {
   "cell_type": "code",
   "execution_count": 6,
   "id": "serious-timeline",
   "metadata": {},
   "outputs": [
    {
     "data": {
      "text/plain": [
       "array([[ 0.42988922, -0.90288164],\n",
       "       [ 0.99526493, -0.09719942],\n",
       "       [-0.28531833, -0.95843281],\n",
       "       [-0.87007493,  0.49291949],\n",
       "       [ 0.96018518, -0.27936431],\n",
       "       [-0.88955764, -0.45682294],\n",
       "       [-0.05873821, -0.99827342],\n",
       "       [ 0.60885641,  0.79328045],\n",
       "       [ 0.5903583 ,  0.8071413 ],\n",
       "       [-0.89665259,  0.44273483]])"
      ]
     },
     "execution_count": 6,
     "metadata": {},
     "output_type": "execute_result"
    }
   ],
   "source": [
    "train_bttns"
   ]
  },
  {
   "cell_type": "code",
   "execution_count": 7,
   "id": "ethical-stage",
   "metadata": {},
   "outputs": [],
   "source": [
    "import numpy as np\n",
    "\n",
    "import matplotlib.pyplot as plt\n",
    "\n",
    "from tqdm import trange\n",
    "import random\n",
    "\n",
    "\n",
    "N, I, O, T = 500, 80, 2, tb+tf\n",
    "shape = (N, I, O, T)\n",
    "\n",
    "dt = .001\n",
    "tau_m = 20. * dt\n",
    "tau_s = 2. * dt\n",
    "tau_ro = 10. * dt\n",
    "tau_star = 20. * dt\n",
    "tau_W = 200 * dt\n",
    "\n",
    "\n",
    "beta = np.exp(-dt/tau_s)\n",
    "beta_ro = np.exp(-dt/tau_ro)\n",
    "beta_targ = np.exp(-dt/tau_star)\n",
    "beta_W = np.exp(-dt/tau_W)\n",
    "\n",
    "sigma_context = 40.\n",
    "sigma_targ = 0.#10**1.5\n",
    "sigma_in = 20.#12.\n",
    "\n",
    "dv = 1 / 500.\n",
    "alpha = .005\n",
    "alpha_rout = .01\n",
    "Vo = - 4\n",
    "h = - 1\n",
    "s_inh = 20\n",
    "\n",
    "sigma_Jrec = 0.\n",
    "sigma_wrec = 0.\n",
    "sigma_Jout = 0.1\n",
    "\n",
    "Ne = 400\n",
    "Ni = 100\n",
    "\n",
    "N = Ne+Ni\n",
    "\n",
    "n_contexts = n_examples\n",
    "\n",
    "# Here we build the dictionary of the simulation parameters\n",
    "par = {'dt' : dt, 'tau_m' : tau_m, 'tau_s' : tau_s, 'tau_ro' : tau_ro, 'tau_star' : tau_star,'tau_W' : tau_W,\n",
    "       'dv' : dv, 'Vo' : Vo, 'h' : h, 's_inh' : s_inh,\n",
    "       'N' : N, 'Ni' : Ni, 'Ne' : Ne, 'T' : T, 'I' : I, 'O' : O, 'shape' : shape, \n",
    "       'sigma_Jrec' : sigma_Jrec,'sigma_wrec' : sigma_wrec, 'sigma_Jout' : sigma_Jout,  'n_contexts' : n_contexts,\n",
    "       'alpha' : alpha, 'alpha_rout' : alpha_rout,\n",
    "       'sigma_in' : sigma_in, 'sigma_targ' : sigma_targ, 'sigma_context' : sigma_context, 'h' : h}\n",
    "\n",
    "TIME = 1.\n",
    "\n",
    "T = int(np.floor(TIME/dt))\n",
    "\n",
    "nStepOutTraining = 1000\n",
    "\n",
    "t_shut = 2\n",
    "\n",
    "JMAX = 100.\n",
    "nu_targ = 0.005\n",
    "\n",
    "# Here we init our (recurrent) agent\n",
    "lttb = LTTB (par)\n"
   ]
  },
  {
   "cell_type": "code",
   "execution_count": 8,
   "id": "printable-london",
   "metadata": {},
   "outputs": [],
   "source": [
    "# define clock and target\n",
    "\n",
    "lttb.y_targ_collection = []\n",
    "lttb.I_clock_collection = []\n",
    "\n",
    "for k in range(n_contexts):\n",
    "    \n",
    "    lttb.y_targ_collection.append(train_exp[k][1])\n",
    "    lttb.I_clock_collection.append( train_exp[k][0] )\n",
    "    \n"
   ]
  },
  {
   "cell_type": "code",
   "execution_count": 9,
   "id": "handy-surrey",
   "metadata": {},
   "outputs": [
    {
     "data": {
      "text/plain": [
       "\"\\nfor k in range(n_contexts):\\n\\n    plt.figure()\\n    plt.subplot(311)\\n    plt.plot(np.array(lttb.y_targ_collection[k]).T)\\n    plt.ylabel('$y_{targ}$')\\n    plt.subplot(212)\\n    plt.plot(np.array(lttb.I_clock_collection[k]).T)\\n    plt.xlabel('time(s)')\\n    plt.ylabel('clock')\\n\""
      ]
     },
     "execution_count": 9,
     "metadata": {},
     "output_type": "execute_result"
    }
   ],
   "source": [
    "\"\"\"\n",
    "for k in range(n_contexts):\n",
    "\n",
    "    plt.figure()\n",
    "    plt.subplot(311)\n",
    "    plt.plot(np.array(lttb.y_targ_collection[k]).T)\n",
    "    plt.ylabel('$y_{targ}$')\n",
    "    plt.subplot(212)\n",
    "    plt.plot(np.array(lttb.I_clock_collection[k]).T)\n",
    "    plt.xlabel('time(s)')\n",
    "    plt.ylabel('clock')\n",
    "\"\"\""
   ]
  },
  {
   "cell_type": "code",
   "execution_count": 10,
   "id": "funky-voice",
   "metadata": {},
   "outputs": [
    {
     "data": {
      "text/plain": [
       "<matplotlib.image.AxesImage at 0x7fabbf4f3220>"
      ]
     },
     "execution_count": 10,
     "metadata": {},
     "output_type": "execute_result"
    },
    {
     "data": {
      "image/png": "[encoded data removed]",
      "text/plain": [
       "<Figure size 432x288 with 1 Axes>"
      ]
     },
     "metadata": {
      "needs_background": "light"
     },
     "output_type": "display_data"
    }
   ],
   "source": [
    "plt.imshow(np.array(lttb.I_clock_collection[2]))\n"
   ]
  },
  {
   "cell_type": "code",
   "execution_count": 11,
   "id": "saving-phase",
   "metadata": {},
   "outputs": [],
   "source": [
    "## Training Rec\n",
    "par['T'] = 120\n",
    "lttb.T = 120\n",
    "    \n",
    "gamma = 10.\n",
    "def f(x,gamma):\n",
    "    return np.exp(x*gamma)/(np.exp(x*gamma)+1)\n",
    "#f1 = @(x)(gamma*exp(gamma*x))./(exp(gamma*x)+1)-(gamma*exp(2*gamma*x))./(exp(gamma*x)+1).^2;\n",
    "\n",
    "apicalFactorTrain = 1\n",
    "apicalFactorTest = 0\n",
    "\n",
    "nIterRec = 50\n",
    "\n",
    "eta = 0.\n",
    "eta_out = 0.005\n",
    "etaW = .0\n",
    "\n",
    "##############################\n",
    "\n",
    "SR_list = []\n",
    "\n",
    "for cont_index in range(n_contexts):\n",
    "        \n",
    "        lttb.initialize(par)\n",
    "        lttb.y_targ = lttb.y_targ_collection[cont_index]\n",
    "        lttb.I_clock = lttb.I_clock_collection[cont_index]\n",
    "        \n",
    "        lttb.cont = lttb.cont*0\n",
    "        lttb.cont[0] = 1\n",
    "\n",
    "        #for t in range(lttb.T-2):\n",
    "        for t in range(tb):\n",
    "            \n",
    "            if t == tb:\n",
    "                lttb.cont = lttb.cont*0\n",
    "                lttb.cont[1] = 1\n",
    "                \n",
    "            lttb.step(apicalFactor = apicalFactorTrain)\n",
    "            \n",
    "            SR = lttb.B_filt[:,t+1]#lttb.S_filtRO[:,t+1]#\n",
    "        SR_list.append(lttb.B_filt)\n",
    "        \n",
    "            \n",
    "\n",
    "            "
   ]
  },
  {
   "cell_type": "code",
   "execution_count": 12,
   "id": "pressed-cotton",
   "metadata": {},
   "outputs": [
    {
     "data": {
      "text/plain": [
       "(500, 120)"
      ]
     },
     "execution_count": 12,
     "metadata": {},
     "output_type": "execute_result"
    }
   ],
   "source": [
    "np.shape(SR_list[0])"
   ]
  },
  {
   "cell_type": "code",
   "execution_count": 13,
   "id": "pharmaceutical-bearing",
   "metadata": {},
   "outputs": [],
   "source": [
    "#####################################\n",
    "            \n",
    "test_every = 5\n",
    "\n",
    "ERRORS = np.zeros((int(nIterRec/test_every),n_contexts))\n",
    "for iteration in range(nIterRec):\n",
    "    \n",
    "    ###### Online-Training\n",
    "\n",
    "    #initialize simulation\n",
    "    \n",
    "    for cont_index in range(n_contexts):\n",
    "        \n",
    "        \n",
    "        lttb.y_targ = lttb.y_targ_collection[cont_index]\n",
    "        \n",
    "        #ON-LINE\n",
    "        \"\"\"\n",
    "        \n",
    "        lttb.initialize(par)\n",
    "        \n",
    "        lttb.I_clock = lttb.I_clock_collection[cont_index]\n",
    "        \n",
    "        lttb.cont = lttb.cont*0\n",
    "        lttb.cont[0] = 1\n",
    "        \n",
    "        #run simulation\n",
    "        dH = 0\n",
    "\n",
    "        #for t in range(lttb.T-2):\n",
    "        for t in range(tb-2):\n",
    "            \n",
    "            if t == tb:\n",
    "                lttb.cont = lttb.cont*0\n",
    "                lttb.cont[1] = 1\n",
    "                \n",
    "            lttb.step(apicalFactor = apicalFactorTrain)\n",
    "            \n",
    "            SR = lttb.B_filt[:,t+1]#lttb.S_filtRO[:,t+1]#\n",
    "            Y = lttb.Jout@SR\n",
    "            DJRO = np.outer(lttb.y_targ[:,t+1] - Y,SR.T)\n",
    "            lttb.Jout =  lttb.Jout + eta_out*DJRO\n",
    "        \n",
    "        \"\"\"\n",
    "        #OFF-LINE\n",
    "        \n",
    "        SR = SR_list[cont_index]\n",
    "        Y = lttb.Jout@SR\n",
    "        DJRO = (lttb.y_targ[:,1:-1] - Y[:,0:-2]) @ ( SR.T[0:-2])\n",
    "        lttb.Jout =  lttb.Jout + eta_out*DJRO\n",
    "       \n",
    "        \n",
    "    ###### Test\n",
    "    \n",
    "    if iteration%test_every==0:\n",
    "\n",
    "        for cont_index in range(n_contexts):\n",
    "            \n",
    "            lttb.initialize(par)\n",
    "            lttb.y_targ = lttb.y_targ_collection[cont_index]\n",
    "            lttb.I_clock = lttb.I_clock_collection[cont_index]\n",
    "            \n",
    "            \n",
    "            lttb.cont = lttb.cont*0\n",
    "            lttb.cont[0] = 1\n",
    "\n",
    "            #run simulation\n",
    "\n",
    "            #for t in range(lttb.T-2):\n",
    "            for t in range(tb-2):\n",
    "                \n",
    "                if t==tb:\n",
    "                    lttb.cont = lttb.cont*0\n",
    "                    lttb.cont[1] = 1\n",
    "                \n",
    "                lttb.step(apicalFactor = apicalFactorTest)\n",
    "\n",
    "            SR = lttb.B_filt[:,1:-2]#lttb.S_filtRO[:,1:-2]# \n",
    "            Y = lttb.Jout@SR\n",
    "            mse_rec_train = np.std(lttb.y_targ[:,1:-2] - Y)**2\n",
    "\n",
    "            ERRORS[int(iteration/test_every),cont_index] = mse_rec_train"
   ]
  },
  {
   "cell_type": "code",
   "execution_count": 14,
   "id": "emotional-graduation",
   "metadata": {},
   "outputs": [
    {
     "data": {
      "image/png": "[encoded data removed]",
      "text/plain": [
       "<Figure size 432x288 with 1 Axes>"
      ]
     },
     "metadata": {
      "needs_background": "light"
     },
     "output_type": "display_data"
    },
    {
     "data": {
      "image/png": "[encoded data removed]",
      "text/plain": [
       "<Figure size 432x288 with 1 Axes>"
      ]
     },
     "metadata": {
      "needs_background": "light"
     },
     "output_type": "display_data"
    }
   ],
   "source": [
    "plt.figure()\n",
    "plt.plot(ERRORS)\n",
    "plt.xlabel(\"iteration\")\n",
    "plt.ylabel(\"mse\")\n",
    "plt.figure()\n",
    "plt.plot(ERRORS.mean(1))\n",
    "plt.xlabel(\"iteration\")\n",
    "plt.ylabel(\"mse\")\n",
    "plt.show()"
   ]
  },
  {
   "cell_type": "code",
   "execution_count": 23,
   "id": "divided-tackle",
   "metadata": {},
   "outputs": [
    {
     "data": {
      "text/plain": [
       "(500, 120)"
      ]
     },
     "execution_count": 23,
     "metadata": {},
     "output_type": "execute_result"
    }
   ],
   "source": [
    "np.shape(SR)\n",
    "\n"
   ]
  },
  {
   "cell_type": "code",
   "execution_count": 24,
   "id": "choice-trust",
   "metadata": {},
   "outputs": [
    {
     "data": {
      "text/plain": [
       "(2, 120)"
      ]
     },
     "execution_count": 24,
     "metadata": {},
     "output_type": "execute_result"
    }
   ],
   "source": [
    "np.shape(lttb.y_targ)\n",
    "\n"
   ]
  },
  {
   "cell_type": "code",
   "execution_count": 25,
   "id": "exterior-estonia",
   "metadata": {},
   "outputs": [
    {
     "data": {
      "text/plain": [
       "120"
      ]
     },
     "execution_count": 25,
     "metadata": {},
     "output_type": "execute_result"
    }
   ],
   "source": [
    "lttb.T"
   ]
  },
  {
   "cell_type": "code",
   "execution_count": 19,
   "id": "disciplinary-degree",
   "metadata": {},
   "outputs": [],
   "source": [
    "def make_test(btn_theta, show_plot=True):\n",
    "    \n",
    "    TIME_TEST = 1500\n",
    "\n",
    "    par['T'] = TIME_TEST\n",
    "    lttb.T = TIME_TEST\n",
    "    lttb.initialize(par)\n",
    "\n",
    "    lttb.y_targ = np.zeros((lttb.O,lttb.T))\n",
    "\n",
    "    #targ_test = train_targs[cont_index]\n",
    "    #btn_test = train_bttns[cont_index]\n",
    "\n",
    "    #theta = 30\n",
    "    #theta = theta/180*np.pi\n",
    "    targ_test = (np.random.rand(2)-.5)\n",
    "    #btn_test = (np.random.rand(2)-.5)\n",
    "    \n",
    "    btn_radius = 0.1\n",
    "    btn_dist = 1.0\n",
    "    btn_test = (btn_dist * np.cos (btn_theta), btn_dist * np.sin (btn_theta))\n",
    "    btn = btn_test\n",
    "    \n",
    "    trajectory = np.zeros((2,TIME_TEST-1))\n",
    "    trajectory[:,0] = init\n",
    "\n",
    "    env.reset (init = init, targ = targ_test, btn = btn_test)\n",
    "\n",
    "    agen = init\n",
    "\n",
    "    R = 0\n",
    "\n",
    "    ACTIONS = []\n",
    "    POSITION = []#np.zeros((2,TIME_TEST-2))\n",
    "\n",
    "    state = np.hstack ((env.encode (targ - init), env.encode (btn - init)))\n",
    "\n",
    "    #lttb.I_clock[:,0] *= 0\n",
    "\n",
    "    #state, r, done, agen = env.step ([0,0])\n",
    "    lttb.I_clock[:,0] = state#lttb.I_clock_collection[cont_index][:,0]\n",
    "\n",
    "    lttb.cont = lttb.cont*0\n",
    "    lttb.cont[0] = 1\n",
    "\n",
    "    closed_loop = 1\n",
    "\n",
    "    context = []\n",
    "\n",
    "    btn_on=0\n",
    "\n",
    "    for t in range (TIME_TEST-2):\n",
    "\n",
    "        if closed_loop:\n",
    "            lttb.I_clock[:,lttb.t+1] = state\n",
    "            if np.sqrt( np.sum((agen - btn_test)**2) ) < btn_radius:\n",
    "\n",
    "                btn_on=1\n",
    "\n",
    "                lttb.cont = lttb.cont*0\n",
    "                lttb.cont[1] = 1\n",
    "\n",
    "        else:\n",
    "            lttb.I_clock[:,lttb.t+1] = lttb.I_clock_collection[cont_index][:,lttb.t+1]\n",
    "            if t == tb:\n",
    "                lttb.cont = lttb.cont*0\n",
    "                lttb.cont[1] = 1\n",
    "\n",
    "        context.append(lttb.cont)\n",
    "\n",
    "        lttb.step (apicalFactor = 0)\n",
    "        action = lttb.Jout@lttb.B_filt[:,t]\n",
    "        ACTIONS.append(action)\n",
    "\n",
    "        state, r, done, agen = env.step (action)\n",
    "\n",
    "        #POSITION[:,t] = agen\n",
    "        POSITION.append( list(agen) )\n",
    "\n",
    "        R = max (R, r)\n",
    "\n",
    "        if np.sqrt( np.sum((agen - targ_test)**2) )  < 0.1 and btn_on==1:\n",
    "            done = 1\n",
    "\n",
    "        if done: break\n",
    "\n",
    "\n",
    "    min_btn_dist = min([np.sqrt( np.sum((np.array(POSITION)[_,:] - btn_test)**2) ) for _ in range(len(POSITION))])\n",
    "    print('btn_theta = %.3f' % btn_theta)\n",
    "    print('R = %.3f' % R)\n",
    "    print('min_btn_dist = %.3f' % min_btn_dist)\n",
    "    \n",
    "    if show_plot:\n",
    "        plt.figure()\n",
    "        #plt.plot(trajectory[0],trajectory[1],'o')\n",
    "        plt.scatter(0,0,marker='X',color='black')\n",
    "        plt.plot(np.array(POSITION)[:,0],np.array(POSITION)[:,1],'-')\n",
    "        plt.plot(targ_test[0]+0.1*np.cos(np.linspace(0,2*np.pi,100)),targ_test[1]+0.1*np.sin(np.linspace(0,2*np.pi,100)),'k-')\n",
    "        plt.plot(btn_test[0]+0.1*np.cos(np.linspace(0,2*np.pi,100)),btn_test[1]+0.1*np.sin(np.linspace(0,2*np.pi,100)),'r-')\n",
    "        plt.scatter([1*np.cos(t) for t in np.linspace(0,2*np.pi,100)],[1*np.sin(t) for t in np.linspace(0,2*np.pi,100)], color='green', marker='.')\n",
    "        plt.xlim(-1,1)\n",
    "        plt.ylim(-1,1)\n",
    "        plt.show()\n",
    "    \n",
    "    return R,min_btn_dist"
   ]
  },
  {
   "cell_type": "code",
   "execution_count": 28,
   "id": "visible-cream",
   "metadata": {},
   "outputs": [
    {
     "ename": "NameError",
     "evalue": "name 'context' is not defined",
     "output_type": "error",
     "traceback": [
      "\u001b[0;31m------------------------------------------------------------------------\u001b[0m",
      "\u001b[0;31mNameError\u001b[0m                              Traceback (most recent call last)",
      "\u001b[0;32m<ipython-input-28-2f86428fd436>\u001b[0m in \u001b[0;36m<module>\u001b[0;34m\u001b[0m\n\u001b[1;32m      1\u001b[0m \u001b[0mplt\u001b[0m\u001b[0;34m.\u001b[0m\u001b[0mfigure\u001b[0m\u001b[0;34m(\u001b[0m\u001b[0;34m)\u001b[0m\u001b[0;34m\u001b[0m\u001b[0;34m\u001b[0m\u001b[0m\n\u001b[0;32m----> 2\u001b[0;31m \u001b[0mplt\u001b[0m\u001b[0;34m.\u001b[0m\u001b[0mplot\u001b[0m\u001b[0;34m(\u001b[0m\u001b[0mcontext\u001b[0m\u001b[0;34m)\u001b[0m\u001b[0;34m\u001b[0m\u001b[0;34m\u001b[0m\u001b[0m\n\u001b[0m",
      "\u001b[0;31mNameError\u001b[0m: name 'context' is not defined"
     ]
    },
    {
     "data": {
      "text/plain": [
       "<Figure size 432x288 with 0 Axes>"
      ]
     },
     "metadata": {},
     "output_type": "display_data"
    }
   ],
   "source": [
    "plt.figure()\n",
    "plt.plot(context)"
   ]
  },
  {
   "cell_type": "code",
   "execution_count": 27,
   "id": "horizontal-investigator",
   "metadata": {},
   "outputs": [
    {
     "name": "stdout",
     "output_type": "stream",
     "text": [
      "btn_theta = 0.000\n",
      "R = 0.953\n",
      "min_btn_dist = 0.079\n"
     ]
    }
   ],
   "source": [
    "#btn_theta = random.random()*2*np.pi\n",
    "\n",
    "Rs = []\n",
    "dists = []\n",
    "\n",
    "for th in np.linspace(0,1,1):\n",
    "    btn_theta = th*2*np.pi\n",
    "    R,min_btn_dist = make_test(btn_theta,show_plot=False)\n",
    "    Rs.append(R)\n",
    "    dists.append(min_btn_dist)"
   ]
  },
  {
   "cell_type": "code",
   "execution_count": 25,
   "id": "expired-bermuda",
   "metadata": {},
   "outputs": [
    {
     "ename": "ValueError",
     "evalue": "x and y must have same first dimension, but have shapes (30,) and (1,)",
     "output_type": "error",
     "traceback": [
      "\u001b[0;31m------------------------------------------------------------------------\u001b[0m",
      "\u001b[0;31mValueError\u001b[0m                             Traceback (most recent call last)",
      "\u001b[0;32m<ipython-input-25-ba488857e3cc>\u001b[0m in \u001b[0;36m<module>\u001b[0;34m\u001b[0m\n\u001b[0;32m----> 1\u001b[0;31m \u001b[0mplt\u001b[0m\u001b[0;34m.\u001b[0m\u001b[0mplot\u001b[0m\u001b[0;34m(\u001b[0m\u001b[0mnp\u001b[0m\u001b[0;34m.\u001b[0m\u001b[0mlinspace\u001b[0m\u001b[0;34m(\u001b[0m\u001b[0;36m0\u001b[0m\u001b[0;34m,\u001b[0m\u001b[0;36m1\u001b[0m\u001b[0;34m,\u001b[0m\u001b[0;36m30\u001b[0m\u001b[0;34m)\u001b[0m\u001b[0;34m*\u001b[0m\u001b[0;36m360\u001b[0m\u001b[0;34m,\u001b[0m\u001b[0mRs\u001b[0m\u001b[0;34m,\u001b[0m\u001b[0mmarker\u001b[0m\u001b[0;34m=\u001b[0m\u001b[0;34m'.'\u001b[0m\u001b[0;34m)\u001b[0m\u001b[0;34m\u001b[0m\u001b[0;34m\u001b[0m\u001b[0m\n\u001b[0m\u001b[1;32m      2\u001b[0m \u001b[0mplt\u001b[0m\u001b[0;34m.\u001b[0m\u001b[0mylabel\u001b[0m\u001b[0;34m(\u001b[0m\u001b[0;34m'R'\u001b[0m\u001b[0;34m)\u001b[0m\u001b[0;34m\u001b[0m\u001b[0;34m\u001b[0m\u001b[0m\n\u001b[1;32m      3\u001b[0m \u001b[0mplt\u001b[0m\u001b[0;34m.\u001b[0m\u001b[0mshow\u001b[0m\u001b[0;34m(\u001b[0m\u001b[0;34m)\u001b[0m\u001b[0;34m\u001b[0m\u001b[0;34m\u001b[0m\u001b[0m\n\u001b[1;32m      4\u001b[0m \u001b[0;34m\u001b[0m\u001b[0m\n\u001b[1;32m      5\u001b[0m \u001b[0mplt\u001b[0m\u001b[0;34m.\u001b[0m\u001b[0mplot\u001b[0m\u001b[0;34m(\u001b[0m\u001b[0mnp\u001b[0m\u001b[0;34m.\u001b[0m\u001b[0mlinspace\u001b[0m\u001b[0;34m(\u001b[0m\u001b[0;36m0\u001b[0m\u001b[0;34m,\u001b[0m\u001b[0;36m1\u001b[0m\u001b[0;34m,\u001b[0m\u001b[0;36m30\u001b[0m\u001b[0;34m)\u001b[0m\u001b[0;34m*\u001b[0m\u001b[0;36m360\u001b[0m\u001b[0;34m,\u001b[0m\u001b[0mdists\u001b[0m\u001b[0;34m,\u001b[0m\u001b[0mmarker\u001b[0m\u001b[0;34m=\u001b[0m\u001b[0;34m'.'\u001b[0m\u001b[0;34m)\u001b[0m\u001b[0;34m\u001b[0m\u001b[0;34m\u001b[0m\u001b[0m\n",
      "\u001b[0;32m~/Documents/GitHub/gym/gym/envs/box2d/openAI/lib/python3.8/site-packages/matplotlib/pyplot.py\u001b[0m in \u001b[0;36mplot\u001b[0;34m(scalex, scaley, data, *args, **kwargs)\u001b[0m\n\u001b[1;32m   3017\u001b[0m \u001b[0;34m@\u001b[0m\u001b[0m_copy_docstring_and_deprecators\u001b[0m\u001b[0;34m(\u001b[0m\u001b[0mAxes\u001b[0m\u001b[0;34m.\u001b[0m\u001b[0mplot\u001b[0m\u001b[0;34m)\u001b[0m\u001b[0;34m\u001b[0m\u001b[0;34m\u001b[0m\u001b[0m\n\u001b[1;32m   3018\u001b[0m \u001b[0;32mdef\u001b[0m \u001b[0mplot\u001b[0m\u001b[0;34m(\u001b[0m\u001b[0;34m*\u001b[0m\u001b[0margs\u001b[0m\u001b[0;34m,\u001b[0m \u001b[0mscalex\u001b[0m\u001b[0;34m=\u001b[0m\u001b[0;32mTrue\u001b[0m\u001b[0;34m,\u001b[0m \u001b[0mscaley\u001b[0m\u001b[0;34m=\u001b[0m\u001b[0;32mTrue\u001b[0m\u001b[0;34m,\u001b[0m \u001b[0mdata\u001b[0m\u001b[0;34m=\u001b[0m\u001b[0;32mNone\u001b[0m\u001b[0;34m,\u001b[0m \u001b[0;34m**\u001b[0m\u001b[0mkwargs\u001b[0m\u001b[0;34m)\u001b[0m\u001b[0;34m:\u001b[0m\u001b[0;34m\u001b[0m\u001b[0;34m\u001b[0m\u001b[0m\n\u001b[0;32m-> 3019\u001b[0;31m     return gca().plot(\n\u001b[0m\u001b[1;32m   3020\u001b[0m         \u001b[0;34m*\u001b[0m\u001b[0margs\u001b[0m\u001b[0;34m,\u001b[0m \u001b[0mscalex\u001b[0m\u001b[0;34m=\u001b[0m\u001b[0mscalex\u001b[0m\u001b[0;34m,\u001b[0m \u001b[0mscaley\u001b[0m\u001b[0;34m=\u001b[0m\u001b[0mscaley\u001b[0m\u001b[0;34m,\u001b[0m\u001b[0;34m\u001b[0m\u001b[0;34m\u001b[0m\u001b[0m\n\u001b[1;32m   3021\u001b[0m         **({\"data\": data} if data is not None else {}), **kwargs)\n",
      "\u001b[0;32m~/Documents/GitHub/gym/gym/envs/box2d/openAI/lib/python3.8/site-packages/matplotlib/axes/_axes.py\u001b[0m in \u001b[0;36mplot\u001b[0;34m(self, scalex, scaley, data, *args, **kwargs)\u001b[0m\n\u001b[1;32m   1603\u001b[0m         \"\"\"\n\u001b[1;32m   1604\u001b[0m         \u001b[0mkwargs\u001b[0m \u001b[0;34m=\u001b[0m \u001b[0mcbook\u001b[0m\u001b[0;34m.\u001b[0m\u001b[0mnormalize_kwargs\u001b[0m\u001b[0;34m(\u001b[0m\u001b[0mkwargs\u001b[0m\u001b[0;34m,\u001b[0m \u001b[0mmlines\u001b[0m\u001b[0;34m.\u001b[0m\u001b[0mLine2D\u001b[0m\u001b[0;34m)\u001b[0m\u001b[0;34m\u001b[0m\u001b[0;34m\u001b[0m\u001b[0m\n\u001b[0;32m-> 1605\u001b[0;31m         \u001b[0mlines\u001b[0m \u001b[0;34m=\u001b[0m \u001b[0;34m[\u001b[0m\u001b[0;34m*\u001b[0m\u001b[0mself\u001b[0m\u001b[0;34m.\u001b[0m\u001b[0m_get_lines\u001b[0m\u001b[0;34m(\u001b[0m\u001b[0;34m*\u001b[0m\u001b[0margs\u001b[0m\u001b[0;34m,\u001b[0m \u001b[0mdata\u001b[0m\u001b[0;34m=\u001b[0m\u001b[0mdata\u001b[0m\u001b[0;34m,\u001b[0m \u001b[0;34m**\u001b[0m\u001b[0mkwargs\u001b[0m\u001b[0;34m)\u001b[0m\u001b[0;34m]\u001b[0m\u001b[0;34m\u001b[0m\u001b[0;34m\u001b[0m\u001b[0m\n\u001b[0m\u001b[1;32m   1606\u001b[0m         \u001b[0;32mfor\u001b[0m \u001b[0mline\u001b[0m \u001b[0;32min\u001b[0m \u001b[0mlines\u001b[0m\u001b[0;34m:\u001b[0m\u001b[0;34m\u001b[0m\u001b[0;34m\u001b[0m\u001b[0m\n\u001b[1;32m   1607\u001b[0m             \u001b[0mself\u001b[0m\u001b[0;34m.\u001b[0m\u001b[0madd_line\u001b[0m\u001b[0;34m(\u001b[0m\u001b[0mline\u001b[0m\u001b[0;34m)\u001b[0m\u001b[0;34m\u001b[0m\u001b[0;34m\u001b[0m\u001b[0m\n",
      "\u001b[0;32m~/Documents/GitHub/gym/gym/envs/box2d/openAI/lib/python3.8/site-packages/matplotlib/axes/_base.py\u001b[0m in \u001b[0;36m__call__\u001b[0;34m(self, data, *args, **kwargs)\u001b[0m\n\u001b[1;32m    313\u001b[0m                 \u001b[0mthis\u001b[0m \u001b[0;34m+=\u001b[0m \u001b[0margs\u001b[0m\u001b[0;34m[\u001b[0m\u001b[0;36m0\u001b[0m\u001b[0;34m]\u001b[0m\u001b[0;34m,\u001b[0m\u001b[0;34m\u001b[0m\u001b[0;34m\u001b[0m\u001b[0m\n\u001b[1;32m    314\u001b[0m                 \u001b[0margs\u001b[0m \u001b[0;34m=\u001b[0m \u001b[0margs\u001b[0m\u001b[0;34m[\u001b[0m\u001b[0;36m1\u001b[0m\u001b[0;34m:\u001b[0m\u001b[0;34m]\u001b[0m\u001b[0;34m\u001b[0m\u001b[0;34m\u001b[0m\u001b[0m\n\u001b[0;32m--> 315\u001b[0;31m             \u001b[0;32myield\u001b[0m \u001b[0;32mfrom\u001b[0m \u001b[0mself\u001b[0m\u001b[0;34m.\u001b[0m\u001b[0m_plot_args\u001b[0m\u001b[0;34m(\u001b[0m\u001b[0mthis\u001b[0m\u001b[0;34m,\u001b[0m \u001b[0mkwargs\u001b[0m\u001b[0;34m)\u001b[0m\u001b[0;34m\u001b[0m\u001b[0;34m\u001b[0m\u001b[0m\n\u001b[0m\u001b[1;32m    316\u001b[0m \u001b[0;34m\u001b[0m\u001b[0m\n\u001b[1;32m    317\u001b[0m     \u001b[0;32mdef\u001b[0m \u001b[0mget_next_color\u001b[0m\u001b[0;34m(\u001b[0m\u001b[0mself\u001b[0m\u001b[0;34m)\u001b[0m\u001b[0;34m:\u001b[0m\u001b[0;34m\u001b[0m\u001b[0;34m\u001b[0m\u001b[0m\n",
      "\u001b[0;32m~/Documents/GitHub/gym/gym/envs/box2d/openAI/lib/python3.8/site-packages/matplotlib/axes/_base.py\u001b[0m in \u001b[0;36m_plot_args\u001b[0;34m(self, tup, kwargs, return_kwargs)\u001b[0m\n\u001b[1;32m    499\u001b[0m \u001b[0;34m\u001b[0m\u001b[0m\n\u001b[1;32m    500\u001b[0m         \u001b[0;32mif\u001b[0m \u001b[0mx\u001b[0m\u001b[0;34m.\u001b[0m\u001b[0mshape\u001b[0m\u001b[0;34m[\u001b[0m\u001b[0;36m0\u001b[0m\u001b[0;34m]\u001b[0m \u001b[0;34m!=\u001b[0m \u001b[0my\u001b[0m\u001b[0;34m.\u001b[0m\u001b[0mshape\u001b[0m\u001b[0;34m[\u001b[0m\u001b[0;36m0\u001b[0m\u001b[0;34m]\u001b[0m\u001b[0;34m:\u001b[0m\u001b[0;34m\u001b[0m\u001b[0;34m\u001b[0m\u001b[0m\n\u001b[0;32m--> 501\u001b[0;31m             raise ValueError(f\"x and y must have same first dimension, but \"\n\u001b[0m\u001b[1;32m    502\u001b[0m                              f\"have shapes {x.shape} and {y.shape}\")\n\u001b[1;32m    503\u001b[0m         \u001b[0;32mif\u001b[0m \u001b[0mx\u001b[0m\u001b[0;34m.\u001b[0m\u001b[0mndim\u001b[0m \u001b[0;34m>\u001b[0m \u001b[0;36m2\u001b[0m \u001b[0;32mor\u001b[0m \u001b[0my\u001b[0m\u001b[0;34m.\u001b[0m\u001b[0mndim\u001b[0m \u001b[0;34m>\u001b[0m \u001b[0;36m2\u001b[0m\u001b[0;34m:\u001b[0m\u001b[0;34m\u001b[0m\u001b[0;34m\u001b[0m\u001b[0m\n",
      "\u001b[0;31mValueError\u001b[0m: x and y must have same first dimension, but have shapes (30,) and (1,)"
     ]
    },
    {
     "data": {
      "image/png": "[encoded data removed]",
      "text/plain": [
       "<Figure size 432x288 with 1 Axes>"
      ]
     },
     "metadata": {
      "needs_background": "light"
     },
     "output_type": "display_data"
    }
   ],
   "source": [
    "plt.plot(np.linspace(0,1,30)*360,Rs,marker='.')\n",
    "plt.ylabel('R')\n",
    "plt.show()\n",
    "\n",
    "plt.plot(np.linspace(0,1,30)*360,dists,marker='.')\n",
    "plt.plot([0,360],[0.1,0.1],ls='--',color='red')\n",
    "for th in train_thetas:\n",
    "    plt.plot([th/2/np.pi*360,th/2/np.pi*360],[0,1],ls='--',color='black',lw=0.5)\n",
    "plt.ylabel('min dist from btn')\n",
    "plt.show()"
   ]
  },
  {
   "cell_type": "code",
   "execution_count": null,
   "id": "intensive-amount",
   "metadata": {},
   "outputs": [],
   "source": [
    "plt.figure()\n",
    "plt.subplot(211)\n",
    "plt.plot(POSITION[0,:])\n",
    "plt.plot(POSITION[1,:])\n",
    "plt.subplot(212)\n",
    "\n",
    "plt.plot(context)"
   ]
  },
  {
   "cell_type": "code",
   "execution_count": 74,
   "id": "english-isaac",
   "metadata": {},
   "outputs": [
    {
     "name": "stdout",
     "output_type": "stream",
     "text": [
      "R = 0\n",
      "R = 0\n",
      "R = 0\n",
      "R = 0\n",
      "R = 4.626371807823789\n",
      "R = 0\n",
      "R = 10.341577828430156\n",
      "R = 10.271286194102471\n",
      "R = 0\n",
      "R = 5.636280050593238\n",
      "R = 0\n",
      "R = 0\n",
      "R = 0\n",
      "R = 0\n",
      "R = 0\n",
      "R = 4.796671672409694\n",
      "R = 0\n",
      "R = 10.042919213210986\n",
      "R = 0\n",
      "R = 0\n"
     ]
    }
   ],
   "source": [
    "TIME_TEST = 1500\n",
    "\n",
    "par['T'] = TIME_TEST\n",
    "lttb.T = TIME_TEST\n",
    "\n",
    "REWARDS = []\n",
    "\n",
    "for rep in range(20):\n",
    "\n",
    "    lttb.initialize(par)\n",
    "\n",
    "    lttb.y_targ = np.zeros((lttb.O,lttb.T))\n",
    "\n",
    "    targ_test = (np.random.rand(2)-.5)\n",
    "    btn_test = (np.random.rand(2)-.5)\n",
    "\n",
    "    trajectory = np.zeros((2,TIME_TEST-1))\n",
    "    trajectory[:,0] = init\n",
    "\n",
    "    env.reset (init = init, targ = targ_test, btn = btn_test)\n",
    "\n",
    "    agen = init\n",
    "\n",
    "    R = 0\n",
    "\n",
    "    ACTIONS = []\n",
    "    POSITION = np.zeros((2,TIME_TEST))\n",
    "\n",
    "    state = np.hstack ((env.encode (targ - init), env.encode (btn - init)))\n",
    "\n",
    "    #lttb.I_clock[:,0] *= 0\n",
    "\n",
    "    #state, r, done, agen = env.step ([0,0])\n",
    "    lttb.I_clock[:,0] = state#lttb.I_clock_collection[cont_index][:,0]\n",
    "\n",
    "    lttb.cont = lttb.cont*0\n",
    "    lttb.cont[0] = 1\n",
    "\n",
    "    closed_loop = 1\n",
    "\n",
    "    context = []\n",
    "\n",
    "    for t in range (TIME_TEST-2):\n",
    "\n",
    "        if closed_loop:\n",
    "            lttb.I_clock[:,lttb.t+1] = state\n",
    "            if np.sqrt( np.sum((agen - btn_test)**2) ) < 0.1:\n",
    "\n",
    "                lttb.cont = lttb.cont*0\n",
    "                lttb.cont[1] = 1\n",
    "\n",
    "        else:\n",
    "            lttb.I_clock[:,lttb.t+1] = lttb.I_clock_collection[cont_index][:,lttb.t+1]\n",
    "            if t == tb:\n",
    "                lttb.cont = lttb.cont*0\n",
    "                lttb.cont[1] = 1\n",
    "\n",
    "        context.append(lttb.cont)\n",
    "\n",
    "        lttb.step (apicalFactor = 0)\n",
    "        action = lttb.Jout@lttb.B_filt[:,t]\n",
    "        ACTIONS.append(action)\n",
    "\n",
    "        state, r, done, agen = env.step (action)\n",
    "\n",
    "        POSITION[:,t] = agen\n",
    "        R = max (R, r)\n",
    "\n",
    "        if np.sqrt( np.sum((agen - targ_test)**2) ) < 0.1:\n",
    "            done = 1\n",
    "\n",
    "        if done: break\n",
    "            \n",
    "    REWARDS.append(R)\n",
    "\n",
    "    print('R = ' + str(R))\n",
    "\n",
    "    \n"
   ]
  },
  {
   "cell_type": "code",
   "execution_count": 75,
   "id": "closing-pierce",
   "metadata": {},
   "outputs": [
    {
     "data": {
      "text/plain": [
       "Text(0.5, 0, 'Reward')"
      ]
     },
     "execution_count": 75,
     "metadata": {},
     "output_type": "execute_result"
    },
    {
     "data": {
      "image/png": "[encoded data removed]",
      "text/plain": [
       "<Figure size 432x288 with 1 Axes>"
      ]
     },
     "metadata": {
      "needs_background": "light"
     },
     "output_type": "display_data"
    }
   ],
   "source": [
    "plt.hist(REWARDS)\n",
    "plt.title(np.array(REWARDS).mean())\n",
    "plt.ylabel(\"N\")\n",
    "plt.xlabel(\"Reward\")"
   ]
  },
  {
   "cell_type": "code",
   "execution_count": null,
   "id": "disabled-sound",
   "metadata": {},
   "outputs": [],
   "source": []
  }
 ],
 "metadata": {
  "kernelspec": {
   "display_name": "Python 3",
   "language": "python",
   "name": "python3"
  },
  "language_info": {
   "codemirror_mode": {
    "name": "ipython",
    "version": 3
   },
   "file_extension": ".py",
   "mimetype": "text/x-python",
   "name": "python",
   "nbconvert_exporter": "python",
   "pygments_lexer": "ipython3",
   "version": "3.8.5"
  }
 },
 "nbformat": 4,
 "nbformat_minor": 5
}
